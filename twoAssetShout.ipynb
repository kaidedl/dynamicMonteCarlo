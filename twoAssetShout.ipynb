{
 "cells": [
  {
   "cell_type": "code",
   "execution_count": 1,
   "metadata": {},
   "outputs": [],
   "source": [
    "import numpy as np\n",
    "from sklearn.preprocessing import PolynomialFeatures\n",
    "from sklearn.linear_model import LinearRegression\n",
    "from matplotlib import pyplot as plt\n",
    "import time\n",
    "from copy import deepcopy"
   ]
  },
  {
   "cell_type": "code",
   "execution_count": 24,
   "metadata": {},
   "outputs": [],
   "source": [
    "sigma = np.array([0.25, 0.35])\n",
    "na = len(sigma)\n",
    "correl = 0.5\n",
    "\n",
    "K = 1"
   ]
  },
  {
   "cell_type": "code",
   "execution_count": 25,
   "metadata": {},
   "outputs": [],
   "source": [
    "T = 1\n",
    "n = 365\n",
    "\n",
    "p_uu = p_dd = (1 + correl) / 4\n",
    "p_ud = p_du = (1 - correl) / 4"
   ]
  },
  {
   "cell_type": "code",
   "execution_count": 26,
   "metadata": {},
   "outputs": [],
   "source": [
    "def compute_S(num_nodes_total: int, num_nodes: int, sigma: np.array, T_total: float):\n",
    "    dt = T_total / num_nodes_total\n",
    "    step_sizes = sigma * dt**0.5\n",
    "    X = np.array([step_sizes[0] * (2 * np.arange(num_nodes+1) - num_nodes).reshape(num_nodes+1, -1).repeat(num_nodes+1, 1),\n",
    "                  step_sizes[1] * (2 * np.arange(num_nodes+1) - num_nodes).reshape(-1, num_nodes+1).repeat(num_nodes+1, 0)])\n",
    "    S = np.exp(X)\n",
    "    S[0] = S[0] * np.exp(-0.5 * sigma[0]**2 * num_nodes * dt)\n",
    "    S[1] = S[1] * np.exp(-0.5 * sigma[1]**2 * num_nodes * dt)\n",
    "    return S"
   ]
  },
  {
   "cell_type": "code",
   "execution_count": 165,
   "metadata": {},
   "outputs": [],
   "source": [
    "def simulate_S(Ts, num_sim, seed=2023):\n",
    "    np.random.seed(seed=seed)\n",
    "    dTs = np.diff(Ts, n=1, prepend=[0])\n",
    "    S = np.zeros((len(Ts), num_sim, na))\n",
    "    for i in range(len(Ts)):\n",
    "        X0 = np.random.normal(size=num_sim)\n",
    "        X1 = correl * X0 + (1-correl**2)**0.5 * np.random.normal(size=num_sim)\n",
    "        S[i, :, 0] = np.exp(sigma[0] * dTs[i]**0.5 * X0 - 0.5*sigma[0]**2*dTs[i])\n",
    "        S[i, :, 1] = np.exp(sigma[1] * dTs[i]**0.5 * X1 - 0.5*sigma[1]**2*dTs[i])\n",
    "        if i > 0:\n",
    "            S[i] = S[i] * S[i-1]\n",
    "    return S"
   ]
  },
  {
   "cell_type": "code",
   "execution_count": 28,
   "metadata": {},
   "outputs": [],
   "source": [
    "def max_vec(*matrices):\n",
    "    m = matrices[0]\n",
    "    for mm in matrices[1:]:\n",
    "        m = np.maximum(m, mm)\n",
    "    return m"
   ]
  },
  {
   "cell_type": "code",
   "execution_count": null,
   "metadata": {},
   "outputs": [],
   "source": []
  },
  {
   "cell_type": "markdown",
   "metadata": {},
   "source": [
    "## tree"
   ]
  },
  {
   "cell_type": "code",
   "execution_count": 100,
   "metadata": {},
   "outputs": [],
   "source": [
    "T = 1\n",
    "n = 365"
   ]
  },
  {
   "cell_type": "code",
   "execution_count": 121,
   "metadata": {},
   "outputs": [],
   "source": [
    "Kv0 = 0.01\n",
    "Kv_num = 101\n",
    "\n",
    "Kv_step = (K*1.01 - Kv0) / (Kv_num-1)\n",
    "Kv = np.linspace(Kv0, K*1.01, Kv_num)\n",
    "\n",
    "Km = np.ones((Kv_num, n+1, n+1))\n",
    "for i in range(Kv_num):\n",
    "    Km[i] = Kv[i] * Km[i]\n",
    "# Kv"
   ]
  },
  {
   "cell_type": "code",
   "execution_count": 122,
   "metadata": {},
   "outputs": [
    {
     "data": {
      "text/plain": [
       "(101, 366, 366)"
      ]
     },
     "execution_count": 122,
     "metadata": {},
     "output_type": "execute_result"
    }
   ],
   "source": [
    "S = compute_S(n, n, sigma, T)\n",
    "payoff_no_shout = max_vec(0, 0.5*(S[0]+S[1]) - K, 0.5*(S[0]+S[1]) - 0.5*(K + S[0]), 0.5*(S[0]+S[1]) - 0.5*(K + S[1]))\n",
    "payoff_shouted0 = max_vec(0, 0.5*(S[0]+S[1]) - 0.5*(K + Km), 0.5*(S[0]+S[1]) - 0.5*(S[1] + Km))\n",
    "payoff_shouted1 = max_vec(0, 0.5*(S[0]+S[1]) - 0.5*(K + Km), 0.5*(S[0]+S[1]) - 0.5*(S[0] + Km))\n",
    "payoff_shouted_both = max_vec(0, 0.5*(S[0]+S[1]) - Km)\n",
    "payoff_shouted_both.shape"
   ]
  },
  {
   "cell_type": "code",
   "execution_count": 123,
   "metadata": {},
   "outputs": [
    {
     "data": {
      "text/plain": [
       "0.14144363108877384"
      ]
     },
     "execution_count": 123,
     "metadata": {},
     "output_type": "execute_result"
    }
   ],
   "source": [
    "def shout_payoff_first(index_shout):\n",
    "    Kmn_lower_index = (S[index_shout] - Kv0) // Kv_step\n",
    "    Kmn_lower_index = (np.maximum(0, np.minimum(Kmn_lower_index, Kv_num-2))).astype(int)\n",
    "    Kmn_lower_weight = 1.0 - (S[index_shout] - (Kv0 + Kmn_lower_index * Kv_step)) / Kv_step\n",
    "    Kmn_lower_weight = np.minimum(1.0, np.maximum(0.0, Kmn_lower_weight))\n",
    "\n",
    "    master_payoff = payoff_shouted0 if index_shout == 0 else payoff_shouted1\n",
    "    j, k = np.ogrid[:master_payoff.shape[1], :master_payoff.shape[2]]\n",
    "    shout_payoff_lower_dd = master_payoff[Kmn_lower_index, j[:-1, :], k[:, :-1]]\n",
    "    shout_payoff_upper_dd = master_payoff[1+Kmn_lower_index, j[:-1, :], k[:, :-1]]\n",
    "    shout_payoff_lower_du = master_payoff[Kmn_lower_index, j[:-1, :], k[:, 1:]]\n",
    "    shout_payoff_upper_du = master_payoff[1+Kmn_lower_index, j[:-1, :], k[:, 1:]]\n",
    "    shout_payoff_lower_ud = master_payoff[Kmn_lower_index, j[1:, :], k[:, :-1]]\n",
    "    shout_payoff_upper_ud = master_payoff[1+Kmn_lower_index, j[1:, :], k[:, :-1]]\n",
    "    shout_payoff_lower_uu = master_payoff[Kmn_lower_index, j[1:, :], k[:, 1:]]\n",
    "    shout_payoff_upper_uu = master_payoff[1+Kmn_lower_index, j[1:, :], k[:, 1:]]\n",
    "\n",
    "    shout_payoff = p_dd * (Kmn_lower_weight * shout_payoff_lower_dd + (1.0 - Kmn_lower_weight) * shout_payoff_upper_dd) +\\\n",
    "                    p_du * (Kmn_lower_weight * shout_payoff_lower_du + (1.0 - Kmn_lower_weight) * shout_payoff_upper_du) +\\\n",
    "                    p_ud * (Kmn_lower_weight * shout_payoff_lower_ud + (1.0 - Kmn_lower_weight) * shout_payoff_upper_ud) +\\\n",
    "                    p_uu * (Kmn_lower_weight * shout_payoff_lower_uu + (1.0 - Kmn_lower_weight) * shout_payoff_upper_uu)\n",
    "\n",
    "    return shout_payoff\n",
    "\n",
    "def shout_payoff_second(index_shout, Km):\n",
    "    Km = Km[:, :nt+1, :nt+1]\n",
    "    Kmn = 0.5 * (Km + S[index_shout])\n",
    "    Kmn_lower_index = (Kmn - Kv0) // Kv_step\n",
    "    Kmn_lower_index = (np.maximum(0, np.minimum(Kmn_lower_index, Kv_num-2))).astype(int)\n",
    "    Kmn_lower_weight = 1.0 - (Kmn - (Kv0 + Kmn_lower_index * Kv_step)) / Kv_step\n",
    "    Kmn_lower_weight = np.minimum(1.0, np.maximum(0.0, Kmn_lower_weight))\n",
    "\n",
    "    j, k = np.ogrid[:payoff_shouted_both.shape[1], :payoff_shouted_both.shape[2]]\n",
    "    shout_payoff_lower_dd = payoff_shouted_both[Kmn_lower_index, j[:-1, :], k[:, :-1]]\n",
    "    shout_payoff_upper_dd = payoff_shouted_both[1+Kmn_lower_index, j[:-1, :], k[:, :-1]]\n",
    "    shout_payoff_lower_du = payoff_shouted_both[Kmn_lower_index, j[:-1, :], k[:, 1:]]\n",
    "    shout_payoff_upper_du = payoff_shouted_both[1+Kmn_lower_index, j[:-1, :], k[:, 1:]]\n",
    "    shout_payoff_lower_ud = payoff_shouted_both[Kmn_lower_index, j[1:, :], k[:, :-1]]\n",
    "    shout_payoff_upper_ud = payoff_shouted_both[1+Kmn_lower_index, j[1:, :], k[:, :-1]]\n",
    "    shout_payoff_lower_uu = payoff_shouted_both[Kmn_lower_index, j[1:, :], k[:, 1:]]\n",
    "    shout_payoff_upper_uu = payoff_shouted_both[1+Kmn_lower_index, j[1:, :], k[:, 1:]]\n",
    "    \n",
    "    shout_payoff = p_dd * (Kmn_lower_weight * shout_payoff_lower_dd + (1.0 - Kmn_lower_weight) * shout_payoff_upper_dd) +\\\n",
    "                    p_du * (Kmn_lower_weight * shout_payoff_lower_du + (1.0 - Kmn_lower_weight) * shout_payoff_upper_du) +\\\n",
    "                    p_ud * (Kmn_lower_weight * shout_payoff_lower_ud + (1.0 - Kmn_lower_weight) * shout_payoff_upper_ud) +\\\n",
    "                    p_uu * (Kmn_lower_weight * shout_payoff_lower_uu + (1.0 - Kmn_lower_weight) * shout_payoff_upper_uu)\n",
    "\n",
    "    return shout_payoff\n",
    "    \n",
    "def back_propagate(some_payoff: np.array, probs: list):\n",
    "    p_dd, p_du, p_ud, p_uu = probs\n",
    "    return p_dd * some_payoff[:-1, :-1] + p_du * some_payoff[:-1, 1:] + p_ud * some_payoff[1:, :-1] + p_uu * some_payoff[1:, 1:]\n",
    "\n",
    "def back_propagate2(some_payoff: np.array, probs: list):\n",
    "    p_dd, p_du, p_ud, p_uu = probs\n",
    "    return p_dd * some_payoff[:, :-1, :-1] + p_du * some_payoff[:, :-1, 1:] + p_ud * some_payoff[:, 1:, :-1] + p_uu * some_payoff[:, 1:, 1:]\n",
    "\n",
    "n_e = [7*i for i in range(1,52)] + [365]\n",
    "#n_e = [180, 365]\n",
    "plot_exercise_region = False\n",
    "\n",
    "for nt in range(n-1, 0, -1):\n",
    "    S = compute_S(n, nt, sigma, T)\n",
    "\n",
    "    payoff_no_shout_no_shout = back_propagate(payoff_no_shout, [p_dd, p_du, p_ud, p_uu])\n",
    "    payoff_shouted0_no_shout = back_propagate2(payoff_shouted0, [p_dd, p_du, p_ud, p_uu])\n",
    "    payoff_shouted1_no_shout = back_propagate2(payoff_shouted1, [p_dd, p_du, p_ud, p_uu])\n",
    "    if nt in n_e:\n",
    "        payoff_no_shout_shout0 = shout_payoff_first(0)\n",
    "        payoff_no_shout_shout1 = shout_payoff_first(1)\n",
    "        payoff_shouted0_shout1 = shout_payoff_second(1, Km)\n",
    "        payoff_shouted1_shout0 = shout_payoff_second(0, Km)\n",
    "        if plot_exercise_region:\n",
    "            break\n",
    "        payoff_no_shout = max_vec(payoff_no_shout_no_shout, payoff_no_shout_shout0, payoff_no_shout_shout1)\n",
    "        payoff_shouted0 = np.maximum(payoff_shouted0_no_shout, payoff_shouted0_shout1)\n",
    "        payoff_shouted1 = np.maximum(payoff_shouted1_no_shout, payoff_shouted1_shout0)\n",
    "    else:\n",
    "        payoff_no_shout = payoff_no_shout_no_shout\n",
    "        payoff_shouted0 = payoff_shouted0_no_shout\n",
    "        payoff_shouted1 = payoff_shouted1_no_shout\n",
    "    payoff_shouted_both = back_propagate2(payoff_shouted_both, [p_dd, p_du, p_ud, p_uu])\n",
    "    #print(nt)\n",
    "    \n",
    "payoff = back_propagate(payoff_no_shout, [p_dd, p_du, p_ud, p_uu])\n",
    "payoff[0,0]"
   ]
  },
  {
   "cell_type": "code",
   "execution_count": 114,
   "metadata": {},
   "outputs": [
    {
     "data": {
      "image/png": "[encoded data removed]",
      "text/plain": [
       "<Figure size 640x480 with 1 Axes>"
      ]
     },
     "metadata": {},
     "output_type": "display_data"
    }
   ],
   "source": [
    "S = compute_S(n, nt, sigma, T)\n",
    "shout0_x = []\n",
    "shout0_y = []\n",
    "shout1_x = []\n",
    "shout1_y = []\n",
    "for i in range(nt+1):\n",
    "    for j in range(nt+1):\n",
    "        if S[0,i,0]<4 and S[1,0,j]<4:\n",
    "            if payoff_no_shout_no_shout[i,j] < payoff_no_shout_shout0[i,j] and payoff_no_shout_shout0[i,j] > payoff_no_shout_shout1[i,j]:\n",
    "                shout0_x.append(S[0,i,0])\n",
    "                shout0_y.append(S[1,0,j])\n",
    "            if payoff_no_shout_no_shout[i,j] < payoff_no_shout_shout1[i,j] and payoff_no_shout_shout1[i,j] > payoff_no_shout_shout0[i,j]:\n",
    "                shout1_x.append(S[0,i,0])\n",
    "                shout1_y.append(S[1,0,j])\n",
    "plt.scatter(shout0_x, shout0_y, c=\"red\", label='shout stock1')\n",
    "plt.scatter(shout1_x, shout1_y, c=\"blue\", label='shout stock2')\n",
    "plt.title(\"optimal shout region in dynamic programming\")\n",
    "plt.xlim(0,4)\n",
    "plt.ylim(0,4)\n",
    "plt.xlabel(\"stock 1\")\n",
    "plt.ylabel(\"stock 2\")\n",
    "plt.legend(loc=\"upper right\")\n",
    "plt.show()"
   ]
  },
  {
   "cell_type": "code",
   "execution_count": null,
   "metadata": {},
   "outputs": [],
   "source": []
  },
  {
   "cell_type": "code",
   "execution_count": null,
   "metadata": {},
   "outputs": [],
   "source": []
  },
  {
   "cell_type": "markdown",
   "metadata": {},
   "source": [
    "## American Monte Carlo "
   ]
  },
  {
   "cell_type": "code",
   "execution_count": 182,
   "metadata": {},
   "outputs": [],
   "source": [
    "n_e = [7*i for i in range(1, 52)] + [365]\n",
    "#n_e = [180, 365]\n",
    "num_sim = 100000\n",
    "Ts = np.array([i*T/365 for i in n_e])\n",
    "S = simulate_S(Ts, num_sim=num_sim)\n",
    "\n",
    "Ks = np.zeros((len(n_e), num_sim, 2))\n",
    "K0 = np.zeros(num_sim)\n",
    "K1 = np.zeros(num_sim)\n",
    "\n",
    "np.random.seed(2023)\n",
    "for nt in range(1, len(n_e)):\n",
    "    K0_sel = (K0 == 0) & (S[nt-1, :, 0] < K)\n",
    "    K1_sel = (K1 == 0) & (S[nt-1, :, 1] < K)\n",
    "    K0_only = K0_sel & (~K1_sel)\n",
    "    K_both = K0_sel & K1_sel\n",
    "    K1_only = K1_sel & (~K0_sel)\n",
    "\n",
    "    K0[K0_only] = np.where(np.random.choice(2, size=sum(K0_only)) == 0, S[nt-1, K0_only, 0], 0)\n",
    "    K1[K1_only] = np.where(np.random.choice(2, size=sum(K1_only)) == 0, S[nt-1, K1_only, 1], 0)\n",
    "    action = np.random.choice(3, size=sum(K_both))\n",
    "    K0[K_both] = np.where(action == 0, S[nt-1, K_both, 0], 0)\n",
    "    K1[K_both] = np.where(action == 1, S[nt-1, K_both, 1], 0)\n",
    "\n",
    "    Ks[nt, :, 0] = deepcopy(K0)\n",
    "    Ks[nt, :, 1] = deepcopy(K1)"
   ]
  },
  {
   "cell_type": "code",
   "execution_count": 183,
   "metadata": {},
   "outputs": [],
   "source": [
    "def compute_value(K0e, K1e, S0e, S1e):\n",
    "    A = 0.5*(S0e+S1e)\n",
    "    return np.where((K0e>0) & (K1e>0), np.maximum(0, A - 0.5*(K0e+K1e)),\n",
    "                np.where(K0e>0, np.maximum(0, A - 0.5*(K0e + np.minimum(K, S1e))),\n",
    "                    np.where(K1e>0, np.maximum(0, A - 0.5*(K1e + np.minimum(K, S0e))),\n",
    "                        np.where(S1e>S0e, np.maximum(0, A - 0.5*(K + np.minimum(K, S0e))),\n",
    "                            np.maximum(0, A - 0.5*(K + np.minimum(K, S1e)))))))\n",
    "\n",
    "def optimalPolicy(i, K0e, K1e, S0e, S1e):\n",
    "    X = np.vstack([K0e, K1e, S0e, S1e]).T\n",
    "    F = PolynomialFeatures(degree_features).fit_transform(X)\n",
    "\n",
    "    values = {}\n",
    "    values[\"noShout\"] = models[\"noShout\"][i].predict(F)\n",
    "    values[\"shout0\"] = np.where(K0e == 0, models[\"shout0\"][i].predict(F), values[\"noShout\"])\n",
    "    values[\"shout1\"] = np.where(K1e == 0, models[\"shout1\"][i].predict(F), values[\"noShout\"])\n",
    "\n",
    "    sel0 = (K0e == 0) & (S0e < K) & (values[\"shout0\"] > values[\"noShout\"]) & ((S1e > K) | ((S1e < K) & (values[\"shout0\"]>values[\"shout1\"])))\n",
    "    K0e[sel0] = S0e[sel0]\n",
    "    sel1 = (K1e == 0) & (S1e < K) & (values[\"shout1\"] > values[\"noShout\"]) & ((S0e > K) | ((S0e < K) & (values[\"shout0\"]<values[\"shout1\"])))\n",
    "    K1e[sel1] = S1e[sel1]\n",
    "\n",
    "    return K0e, K1e\n",
    "\n",
    "def q(action, nt):\n",
    "    Ks_t = deepcopy(Ks)\n",
    "    K0 = Ks_t[nt, :, 0]\n",
    "    K1 = Ks_t[nt, :, 1]\n",
    "\n",
    "    if action == 'noShout':\n",
    "        sel = K0 > -1\n",
    "        K0_eff = deepcopy(K0)\n",
    "        K1_eff = deepcopy(K1)\n",
    "    elif action == 'shout0':\n",
    "        sel = (K0 == 0) & (S[nt, :, 0] < K)\n",
    "        K0_eff = deepcopy(S[nt, sel, 0])\n",
    "        K1_eff = deepcopy(K1[sel])\n",
    "    else:\n",
    "        sel = (K1 == 0) & (S[nt, :, 1] < K)\n",
    "        K0_eff = deepcopy(K0[sel])\n",
    "        K1_eff = deepcopy(S[nt, sel, 1])\n",
    "\n",
    "    for i in range(nt+1, len(n_e)-1):\n",
    "        K0_eff, K1_eff = optimalPolicy(i, K0_eff, K1_eff, S[i, sel, 0], S[i, sel, 1])\n",
    "\n",
    "    values = compute_value(K0_eff, K1_eff, S[-1, sel, 0], S[-1, sel, 1])\n",
    "    X = np.vstack([Ks_t[nt, sel, 0], Ks_t[nt, sel, 1], S[nt, sel, 0], S[nt, sel, 1]]).T\n",
    "    return X, values, sel"
   ]
  },
  {
   "cell_type": "code",
   "execution_count": 184,
   "metadata": {},
   "outputs": [],
   "source": [
    "nt = len(n_e)-2\n",
    "degree_features = 2\n",
    "\n",
    "all_actions = [\"noShout\", \"shout0\", \"shout1\"]\n",
    "models = {action: [None for _ in range(len(n_e)-1)] for action in all_actions}\n",
    "\n",
    "for nt in range(len(n_e)-2, -1, -1):\n",
    "    for action in all_actions:\n",
    "        X, values, _ = q(action, nt)\n",
    "        F = PolynomialFeatures(degree_features).fit_transform(X)\n",
    "        models[action][nt] = LinearRegression().fit(F, values)"
   ]
  },
  {
   "cell_type": "code",
   "execution_count": 185,
   "metadata": {},
   "outputs": [
    {
     "name": "stdout",
     "output_type": "stream",
     "text": [
      "0.13042662478195946 0.12922305585545785 0.13163019370846107\n"
     ]
    }
   ],
   "source": [
    "K0 = np.zeros(num_sim)\n",
    "K1 = np.zeros(num_sim)\n",
    "\n",
    "for nt in range(len(n_e) - 1):\n",
    "    K0, K1 = optimalPolicy(nt, K0, K1, S[nt, :, 0], S[nt, :, 1])\n",
    "\n",
    "v = compute_value(K0, K1, S[-1,:,0], S[-1,:,1])\n",
    "sd = np.std(v)/num_sim**0.5\n",
    "print(np.mean(v), np.mean(v) - 2*sd, np.mean(v)+2*sd)"
   ]
  },
  {
   "cell_type": "code",
   "execution_count": 177,
   "metadata": {},
   "outputs": [
    {
     "data": {
      "image/png": "[encoded data removed]",
      "text/plain": [
       "<Figure size 640x480 with 1 Axes>"
      ]
     },
     "metadata": {},
     "output_type": "display_data"
    }
   ],
   "source": [
    "nt = 0\n",
    "Ks_test = deepcopy(Ks)\n",
    "K0e = Ks_test[nt, :, 0]\n",
    "K1e = Ks_test[nt, :, 1]\n",
    "\n",
    "K0, K1 = optimalPolicy(0, K0e, K1e, S[nt, :, 0], S[nt, :, 1])\n",
    "\n",
    "shout0_x = []\n",
    "shout0_y = []\n",
    "shout1_x = []\n",
    "shout1_y = []\n",
    "for i in range(S.shape[1]):\n",
    "    if K0[i] > 0:\n",
    "        shout0_x.append(S[0, i, 0])\n",
    "        shout0_y.append(S[0, i, 1])\n",
    "    elif K1[i] > 0:\n",
    "        shout1_x.append(S[0, i, 0])\n",
    "        shout1_y.append(S[0, i, 1])\n",
    "        \n",
    "plt.scatter(shout0_x, shout0_y, c=\"red\", label=\"shout stock1\")\n",
    "plt.scatter(shout1_x, shout1_y, c=\"blue\", label=\"shout stock2\")\n",
    "plt.title(\"optimal shout region in american monte carlo\")\n",
    "plt.xlim(0,4)\n",
    "plt.ylim(0,4)\n",
    "plt.xlabel(\"stock 1\")\n",
    "plt.ylabel(\"stock 2\")\n",
    "plt.legend(loc=\"upper right\")\n",
    "plt.show()"
   ]
  },
  {
   "cell_type": "code",
   "execution_count": null,
   "metadata": {},
   "outputs": [],
   "source": []
  },
  {
   "cell_type": "markdown",
   "metadata": {},
   "source": [
    "## Dynamic Monte Carlo"
   ]
  },
  {
   "cell_type": "code",
   "execution_count": 196,
   "metadata": {},
   "outputs": [],
   "source": [
    "n_e = [180, 365]\n",
    "n_e = [7*i for i in range(1, 52)] + [365]\n",
    "num_sim = 100000\n",
    "Ts = np.array([i*T/365 for i in n_e])\n",
    "S = simulate_S(Ts, num_sim=num_sim)\n",
    "\n",
    "payoff_no_shout_no_shout = np.maximum(0.5*(S[-1, :, 0]+S[-1, :, 1]) - K, 0)\n",
    "payoff_no_shout_shout0 = np.maximum(0.5*(S[-1, :, 0]+S[-1, :, 1]) - 0.5*(S[-1,:,0]+K), 0)\n",
    "payoff_no_shout_shout1 = np.maximum(0.5*(S[-1, :, 0]+S[-1, :, 1]) - 0.5*(S[-1,:,1]+K), 0)\n",
    "payoff_no_shout = max_vec(payoff_no_shout_no_shout, payoff_no_shout_shout0, payoff_no_shout_shout1)\n",
    "\n",
    "Km = np.repeat(Kv.reshape(1,-1), num_sim, axis=0)\n",
    "payoff_shouted_both = max_vec(0, 0.5*(S[-1, :, 0]+S[-1, :, 1]).reshape(-1,1) - Km)\n",
    "\n",
    "payoff_shouted0_no_shout = max_vec(0, 0.5*(S[-1, :, 0]+S[-1,:,1]).reshape(-1,1) - 0.5*(Km+K))\n",
    "payoff_shouted0_shout = max_vec(0, 0.5*(S[-1, :, 0]+S[-1,:,1]).reshape(-1,1) - 0.5*(Km+S[-1,:,1].reshape(-1,1)))\n",
    "payoff_shouted0 = max_vec(payoff_shouted0_no_shout, payoff_shouted0_shout)\n",
    "\n",
    "payoff_shouted1_no_shout = max_vec(0, 0.5*(S[-1, :, 0]+S[-1,:,1]).reshape(-1,1) - 0.5*(Km+K))\n",
    "payoff_shouted1_shout = max_vec(0, 0.5*(S[-1, :, 0]+S[-1,:,1]).reshape(-1,1) - 0.5*(Km+S[-1,:,0].reshape(-1,1)))\n",
    "payoff_shouted1 = max_vec(payoff_shouted1_no_shout, payoff_shouted1_shout)"
   ]
  },
  {
   "cell_type": "code",
   "execution_count": 197,
   "metadata": {},
   "outputs": [
    {
     "name": "stdout",
     "output_type": "stream",
     "text": [
      "50\n",
      "49\n",
      "48\n",
      "47\n",
      "46\n",
      "45\n",
      "44\n",
      "43\n",
      "42\n",
      "41\n",
      "40\n",
      "39\n",
      "38\n",
      "37\n",
      "36\n",
      "35\n",
      "34\n",
      "33\n",
      "32\n",
      "31\n",
      "30\n",
      "29\n",
      "28\n",
      "27\n",
      "26\n",
      "25\n",
      "24\n",
      "23\n",
      "22\n",
      "21\n",
      "20\n",
      "19\n",
      "18\n",
      "17\n",
      "16\n",
      "15\n",
      "14\n",
      "13\n",
      "12\n",
      "11\n",
      "10\n",
      "9\n",
      "8\n",
      "7\n",
      "6\n",
      "5\n",
      "4\n",
      "3\n",
      "2\n",
      "1\n",
      "0\n",
      "0.14109826001426795\n",
      "0.13994265436875866 0.14225386565977724\n"
     ]
    }
   ],
   "source": [
    "degree_features = 2\n",
    "\n",
    "for nt in range(len(n_e)-2, -1, -1):\n",
    "    # state: no_shout\n",
    "\n",
    "    ## action: shout 0\n",
    "    sel0 = S[nt, :, 0] < K\n",
    "    F = PolynomialFeatures(degree_features).fit_transform(S[nt, sel0, :])\n",
    "    model_no_shout_no_shout = LinearRegression().fit(F, payoff_no_shout[sel0])\n",
    "\n",
    "    Kvn_lower_index = (S[nt, sel0, 0] - Kv0) // Kv_step\n",
    "    Kvn_lower_index = (np.maximum(0, np.minimum(Kvn_lower_index, Kv_num-2))).astype(int)\n",
    "    Kvn_lower_weight = 1.0 - (S[nt, sel0, 0] - (Kv0 + Kvn_lower_index * Kv_step)) / Kv_step\n",
    "    Kvn_lower_weight = np.minimum(1.0, np.maximum(0.0, Kvn_lower_weight))\n",
    "    payoff_shouted0_sel0 = payoff_shouted0[sel0, :]\n",
    "    j = np.ogrid[:payoff_shouted0_sel0.shape[0]]\n",
    "    payoff_no_shout_shout0 = Kvn_lower_weight * payoff_shouted0_sel0[j, Kvn_lower_index] +\\\n",
    "        (1-Kvn_lower_weight) * payoff_shouted0_sel0[j, 1+Kvn_lower_index]\n",
    "    model_no_shout_shout0 = LinearRegression().fit(F, payoff_no_shout_shout0)\n",
    "\n",
    "    sel00 = model_no_shout_shout0.predict(F) > model_no_shout_no_shout.predict(F)\n",
    "    if not plot_exercise_region:\n",
    "        payoff_no_shout[sel0] = np.where(sel00, payoff_no_shout_shout0, payoff_no_shout[sel0])\n",
    "\n",
    "    ## action: shout1\n",
    "    sel1 = S[nt, :, 1] < K\n",
    "    F2 = PolynomialFeatures(degree_features).fit_transform(S[nt, sel1, :])\n",
    "    model_no_shout_no_shout = LinearRegression().fit(F2, payoff_no_shout[sel1])\n",
    "\n",
    "    Kvn_lower_index = (S[nt, sel1, 1] - Kv0) // Kv_step\n",
    "    Kvn_lower_index = (np.maximum(0, np.minimum(Kvn_lower_index, Kv_num-2))).astype(int)\n",
    "    Kvn_lower_weight = 1.0 - (S[nt, sel1, 1] - (Kv0 + Kvn_lower_index * Kv_step)) / Kv_step\n",
    "    Kvn_lower_weight = np.minimum(1.0, np.maximum(0.0, Kvn_lower_weight))\n",
    "    payoff_shouted1_sel1 = payoff_shouted1[sel1, :]\n",
    "    j = np.ogrid[:payoff_shouted1_sel1.shape[0]]\n",
    "    payoff_no_shout_shout1 = Kvn_lower_weight * payoff_shouted1_sel1[j, Kvn_lower_index] +\\\n",
    "        (1-Kvn_lower_weight) * payoff_shouted1_sel1[j, 1+Kvn_lower_index]\n",
    "    model_no_shout_shout1 = LinearRegression().fit(F2, payoff_no_shout_shout1)\n",
    "\n",
    "    sel11 = model_no_shout_shout1.predict(F2) > model_no_shout_no_shout.predict(F2)\n",
    "    if plot_exercise_region:\n",
    "        break\n",
    "    payoff_no_shout[sel1] = np.where(sel11, payoff_no_shout_shout1, payoff_no_shout[sel1])\n",
    "    \n",
    "    # state: shouted0\n",
    "    sel1 = S[nt, :, 1] < K\n",
    "    F = PolynomialFeatures(degree_features).fit_transform(S[nt, sel1, :])\n",
    "\n",
    "    Kmn = 0.5*(S[nt, sel1, 1].reshape(-1,1) + Km[sel1])\n",
    "    Kmn_lower_index = (Kmn - Kv0) // Kv_step\n",
    "    Kmn_lower_index = (np.maximum(0, np.minimum(Kmn_lower_index, Kv_num-2))).astype(int)\n",
    "    Kmn_lower_weight = 1.0 - (Kmn - (Kv0 + Kmn_lower_index * Kv_step)) / Kv_step\n",
    "    Kmn_lower_weight = np.minimum(1.0, np.maximum(0.0, Kmn_lower_weight))\n",
    "    payoff_shouted_both_sel1 = payoff_shouted_both[sel1, :]\n",
    "    j = np.array([[i] for i in range(payoff_shouted_both_sel1.shape[0])])\n",
    "    payoff_shouted0_shout1 = Kmn_lower_weight * payoff_shouted_both_sel1[j, Kmn_lower_index] +\\\n",
    "        (1.0 - Kmn_lower_weight) * payoff_shouted_both_sel1[j, 1+Kmn_lower_index]\n",
    "\n",
    "    for i in range(Kv_num):\n",
    "        model_shouted0_no_shout = LinearRegression().fit(F, payoff_shouted0[sel1, i])\n",
    "        model_shouted0_shout1 = LinearRegression().fit(F, payoff_shouted0_shout1[:, i])\n",
    "        sel11 = model_shouted0_shout1.predict(F) > model_shouted0_no_shout.predict(F)\n",
    "        payoff_shouted0[sel1, i] = np.where(sel11, payoff_shouted0_shout1[:, i], payoff_shouted0[sel1, i])\n",
    "\n",
    "    ## state: shouted1\n",
    "    sel0 = S[nt, :, 0] < K\n",
    "    F = PolynomialFeatures(degree_features).fit_transform(S[nt, sel0, :])\n",
    "\n",
    "    Kmn = 0.5*(S[nt, sel0, 0].reshape(-1,1) + Km[sel0])\n",
    "    Kmn_lower_index = (Kmn - Kv0) // Kv_step\n",
    "    Kmn_lower_index = (np.maximum(0, np.minimum(Kmn_lower_index, Kv_num-2))).astype(int)\n",
    "    Kmn_lower_weight = 1.0 - (Kmn - (Kv0 + Kmn_lower_index * Kv_step)) / Kv_step\n",
    "    Kmn_lower_weight = np.minimum(1.0, np.maximum(0.0, Kmn_lower_weight))\n",
    "    payoff_shouted_both_sel0 = payoff_shouted_both[sel0, :]\n",
    "    j = np.array([[i] for i in range(payoff_shouted_both_sel0.shape[0])])\n",
    "    payoff_shouted1_shout0 = Kmn_lower_weight * payoff_shouted_both_sel0[j, Kmn_lower_index] +\\\n",
    "        (1.0 - Kmn_lower_weight) * payoff_shouted_both_sel0[j, 1+Kmn_lower_index]\n",
    "\n",
    "    for i in range(Kv_num):\n",
    "        model_shouted1_no_shout = LinearRegression().fit(F, payoff_shouted1[sel0, i])\n",
    "        model_shouted1_shout0 = LinearRegression().fit(F, payoff_shouted1_shout0[:, i])\n",
    "        sel00 = model_shouted1_shout0.predict(F) > model_shouted1_no_shout.predict(F)\n",
    "        payoff_shouted1[sel0, i] = np.where(sel00, payoff_shouted1_shout0[:, i], payoff_shouted1[sel0, i])\n",
    "\n",
    "    print(nt)\n",
    "\n",
    "print(np.mean(payoff_no_shout))\n",
    "sd = np.std(payoff_no_shout)/num_sim**0.5\n",
    "print(np.mean(payoff_no_shout) - 2*sd, np.mean(payoff_no_shout)+2*sd)\n",
    "\n"
   ]
  },
  {
   "cell_type": "code",
   "execution_count": null,
   "metadata": {},
   "outputs": [],
   "source": []
  },
  {
   "cell_type": "code",
   "execution_count": null,
   "metadata": {},
   "outputs": [],
   "source": []
  },
  {
   "cell_type": "code",
   "execution_count": null,
   "metadata": {},
   "outputs": [],
   "source": []
  },
  {
   "cell_type": "code",
   "execution_count": null,
   "metadata": {},
   "outputs": [],
   "source": []
  },
  {
   "cell_type": "code",
   "execution_count": null,
   "metadata": {},
   "outputs": [],
   "source": []
  }
 ],
 "metadata": {
  "kernelspec": {
   "display_name": "imc",
   "language": "python",
   "name": "imc"
  },
  "language_info": {
   "codemirror_mode": {
    "name": "ipython",
    "version": 3
   },
   "file_extension": ".py",
   "mimetype": "text/x-python",
   "name": "python",
   "nbconvert_exporter": "python",
   "pygments_lexer": "ipython3",
   "version": "3.9.19"
  }
 },
 "nbformat": 4,
 "nbformat_minor": 4
}
